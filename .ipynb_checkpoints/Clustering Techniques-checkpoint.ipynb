{
 "cells": [
  {
   "cell_type": "markdown",
   "id": "184381bb",
   "metadata": {},
   "source": [
    "# Clustering Techniques"
   ]
  },
  {
   "cell_type": "markdown",
   "id": "31b3dee3",
   "metadata": {},
   "source": [
    "## Part I: Research Question"
   ]
  },
  {
   "cell_type": "markdown",
   "id": "990651ce",
   "metadata": {},
   "source": [
    "Can we accurately predict and identify the principal variables of the customers using kmeans clustering?\n",
    "\n",
    "We will answer this question using k-means.\n",
    "\n",
    "The goal of this data analysis is to find if we can identify the principal variables of the customers through kmeans clustering. Another goal of K-means is to find the optimal number of clusters."
   ]
  },
  {
   "cell_type": "markdown",
   "id": "b37df043",
   "metadata": {},
   "source": [
    "## Part II: Method Justification"
   ]
  },
  {
   "cell_type": "markdown",
   "id": "287f5450",
   "metadata": {},
   "source": [
    "K-means clustering is a form of unsupervised learning. It creates 'K' clusters over the data and compares them. This divides the data into different clusters, with data sharing similar characteristcs being clustered together. This will allow a company to find the data that has similarities with variables of the customers, so we can find the principal variables of the customers.\n",
    "\n",
    "One assumption of K-means clustering is that the data is normalized, so before running and tests, we will need to normalize the data and prepare it for analysis."
   ]
  },
  {
   "cell_type": "markdown",
   "id": "f23d84d1",
   "metadata": {},
   "source": [
    "## Part III: Data Preparation"
   ]
  },
  {
   "cell_type": "markdown",
   "id": "9a7fc9a5",
   "metadata": {},
   "source": [
    "One data preprocessing goal for this analysis will be to scale and normalize the data. This will give us more accurate results in our analysis.\n",
    "\n",
    "The initial variables we will use are Churn, which is categorical, and Age, mothly charge, bandwidth, and tenure, which are all continuous\n",
    "\n",
    "Preparing the data for analysis:\n",
    "\n",
    "Data preparation will consist of cleaning up bad data, such as replacing nulls, removing duplicated rows, etc. We will also convert categorical variables to numerical so we can run linear regression. Finally all data will be normalized."
   ]
  },
  {
   "cell_type": "code",
   "execution_count": 1,
   "id": "8a87d3b0",
   "metadata": {},
   "outputs": [],
   "source": [
    "# Importing packages to be used\n",
    "import numpy as np\n",
    "# numpy for data analysis functionality\n",
    "import pandas as pd\n",
    "# pandas for dataframes\n",
    "from sklearn.cluster import KMeans, k_means\n",
    "# Kmeans classifier\n",
    "# Import ElbowVisualizer\n",
    "from yellowbrick.cluster import KElbowVisualizer\n",
    "import matplotlib.pyplot as plt\n",
    "%matplotlib inline\n",
    "# matplotlib for plotting\n",
    "import seaborn as sns\n",
    "# seaborn for extra plotting functionality"
   ]
  },
  {
   "cell_type": "code",
   "execution_count": 2,
   "id": "c16b891f",
   "metadata": {},
   "outputs": [],
   "source": [
    "# Importing the data\n",
    "df = pd.read_csv('Churn Data\\churn_clean.csv')"
   ]
  },
  {
   "cell_type": "code",
   "execution_count": 3,
   "id": "dbb8c0ee",
   "metadata": {},
   "outputs": [
    {
     "data": {
      "text/plain": [
       "CaseOrder               False\n",
       "Customer_id             False\n",
       "Interaction             False\n",
       "UID                     False\n",
       "City                    False\n",
       "State                   False\n",
       "County                  False\n",
       "Zip                     False\n",
       "Lat                     False\n",
       "Lng                     False\n",
       "Population              False\n",
       "Area                    False\n",
       "TimeZone                False\n",
       "Job                     False\n",
       "Children                False\n",
       "Age                     False\n",
       "Income                  False\n",
       "Marital                 False\n",
       "Gender                  False\n",
       "Churn                   False\n",
       "Outage_sec_perweek      False\n",
       "Email                   False\n",
       "Contacts                False\n",
       "Yearly_equip_failure    False\n",
       "Techie                  False\n",
       "Contract                False\n",
       "Port_modem              False\n",
       "Tablet                  False\n",
       "InternetService         False\n",
       "Phone                   False\n",
       "Multiple                False\n",
       "OnlineSecurity          False\n",
       "OnlineBackup            False\n",
       "DeviceProtection        False\n",
       "TechSupport             False\n",
       "StreamingTV             False\n",
       "StreamingMovies         False\n",
       "PaperlessBilling        False\n",
       "PaymentMethod           False\n",
       "Tenure                  False\n",
       "MonthlyCharge           False\n",
       "Bandwidth_GB_Year       False\n",
       "Item1                   False\n",
       "Item2                   False\n",
       "Item3                   False\n",
       "Item4                   False\n",
       "Item5                   False\n",
       "Item6                   False\n",
       "Item7                   False\n",
       "Item8                   False\n",
       "dtype: bool"
      ]
     },
     "execution_count": 3,
     "metadata": {},
     "output_type": "execute_result"
    }
   ],
   "source": [
    "# Checking for null values\n",
    "df.isna().any()"
   ]
  },
  {
   "cell_type": "markdown",
   "id": "dd54083a",
   "metadata": {},
   "source": [
    "These are all false, meaning there are no null values"
   ]
  },
  {
   "cell_type": "code",
   "execution_count": 4,
   "id": "3bb846de",
   "metadata": {},
   "outputs": [
    {
     "data": {
      "text/plain": [
       "False"
      ]
     },
     "execution_count": 4,
     "metadata": {},
     "output_type": "execute_result"
    }
   ],
   "source": [
    "# Checking for duplicates\n",
    "df.duplicated().any()"
   ]
  },
  {
   "cell_type": "markdown",
   "id": "35c16e86",
   "metadata": {},
   "source": [
    "False, meaning there are no duplicates"
   ]
  },
  {
   "cell_type": "code",
   "execution_count": 5,
   "id": "f6cfc880",
   "metadata": {},
   "outputs": [],
   "source": [
    "# Creating new dataframe with only the values we need\n",
    "newdf = df[['Age', 'MonthlyCharge', 'Bandwidth_GB_Year','Tenure','Churn']].copy()"
   ]
  },
  {
   "cell_type": "code",
   "execution_count": 6,
   "id": "e89ae028",
   "metadata": {},
   "outputs": [
    {
     "data": {
      "text/html": [
       "<div>\n",
       "<style scoped>\n",
       "    .dataframe tbody tr th:only-of-type {\n",
       "        vertical-align: middle;\n",
       "    }\n",
       "\n",
       "    .dataframe tbody tr th {\n",
       "        vertical-align: top;\n",
       "    }\n",
       "\n",
       "    .dataframe thead th {\n",
       "        text-align: right;\n",
       "    }\n",
       "</style>\n",
       "<table border=\"1\" class=\"dataframe\">\n",
       "  <thead>\n",
       "    <tr style=\"text-align: right;\">\n",
       "      <th></th>\n",
       "      <th>Age</th>\n",
       "      <th>MonthlyCharge</th>\n",
       "      <th>Bandwidth_GB_Year</th>\n",
       "      <th>Tenure</th>\n",
       "      <th>Churn</th>\n",
       "    </tr>\n",
       "  </thead>\n",
       "  <tbody>\n",
       "    <tr>\n",
       "      <th>0</th>\n",
       "      <td>68</td>\n",
       "      <td>172.455519</td>\n",
       "      <td>904.536110</td>\n",
       "      <td>6.795513</td>\n",
       "      <td>No</td>\n",
       "    </tr>\n",
       "    <tr>\n",
       "      <th>1</th>\n",
       "      <td>27</td>\n",
       "      <td>242.632554</td>\n",
       "      <td>800.982766</td>\n",
       "      <td>1.156681</td>\n",
       "      <td>Yes</td>\n",
       "    </tr>\n",
       "    <tr>\n",
       "      <th>2</th>\n",
       "      <td>50</td>\n",
       "      <td>159.947583</td>\n",
       "      <td>2054.706961</td>\n",
       "      <td>15.754144</td>\n",
       "      <td>No</td>\n",
       "    </tr>\n",
       "    <tr>\n",
       "      <th>3</th>\n",
       "      <td>48</td>\n",
       "      <td>119.956840</td>\n",
       "      <td>2164.579412</td>\n",
       "      <td>17.087227</td>\n",
       "      <td>No</td>\n",
       "    </tr>\n",
       "    <tr>\n",
       "      <th>4</th>\n",
       "      <td>83</td>\n",
       "      <td>149.948316</td>\n",
       "      <td>271.493436</td>\n",
       "      <td>1.670972</td>\n",
       "      <td>Yes</td>\n",
       "    </tr>\n",
       "    <tr>\n",
       "      <th>...</th>\n",
       "      <td>...</td>\n",
       "      <td>...</td>\n",
       "      <td>...</td>\n",
       "      <td>...</td>\n",
       "      <td>...</td>\n",
       "    </tr>\n",
       "    <tr>\n",
       "      <th>9995</th>\n",
       "      <td>23</td>\n",
       "      <td>159.979400</td>\n",
       "      <td>6511.252601</td>\n",
       "      <td>68.197130</td>\n",
       "      <td>No</td>\n",
       "    </tr>\n",
       "    <tr>\n",
       "      <th>9996</th>\n",
       "      <td>48</td>\n",
       "      <td>207.481100</td>\n",
       "      <td>5695.951810</td>\n",
       "      <td>61.040370</td>\n",
       "      <td>No</td>\n",
       "    </tr>\n",
       "    <tr>\n",
       "      <th>9997</th>\n",
       "      <td>48</td>\n",
       "      <td>169.974100</td>\n",
       "      <td>4159.305799</td>\n",
       "      <td>47.416890</td>\n",
       "      <td>No</td>\n",
       "    </tr>\n",
       "    <tr>\n",
       "      <th>9998</th>\n",
       "      <td>39</td>\n",
       "      <td>252.624000</td>\n",
       "      <td>6468.456752</td>\n",
       "      <td>71.095600</td>\n",
       "      <td>No</td>\n",
       "    </tr>\n",
       "    <tr>\n",
       "      <th>9999</th>\n",
       "      <td>28</td>\n",
       "      <td>217.484000</td>\n",
       "      <td>5857.586167</td>\n",
       "      <td>63.350860</td>\n",
       "      <td>No</td>\n",
       "    </tr>\n",
       "  </tbody>\n",
       "</table>\n",
       "<p>10000 rows × 5 columns</p>\n",
       "</div>"
      ],
      "text/plain": [
       "      Age  MonthlyCharge  Bandwidth_GB_Year     Tenure Churn\n",
       "0      68     172.455519         904.536110   6.795513    No\n",
       "1      27     242.632554         800.982766   1.156681   Yes\n",
       "2      50     159.947583        2054.706961  15.754144    No\n",
       "3      48     119.956840        2164.579412  17.087227    No\n",
       "4      83     149.948316         271.493436   1.670972   Yes\n",
       "...   ...            ...                ...        ...   ...\n",
       "9995   23     159.979400        6511.252601  68.197130    No\n",
       "9996   48     207.481100        5695.951810  61.040370    No\n",
       "9997   48     169.974100        4159.305799  47.416890    No\n",
       "9998   39     252.624000        6468.456752  71.095600    No\n",
       "9999   28     217.484000        5857.586167  63.350860    No\n",
       "\n",
       "[10000 rows x 5 columns]"
      ]
     },
     "execution_count": 6,
     "metadata": {},
     "output_type": "execute_result"
    }
   ],
   "source": [
    "newdf"
   ]
  },
  {
   "cell_type": "code",
   "execution_count": 7,
   "id": "0d6b602f",
   "metadata": {},
   "outputs": [],
   "source": [
    "# Scaling the data\n",
    "from sklearn.preprocessing import StandardScaler\n",
    "from sklearn import preprocessing\n",
    "\n",
    "num_cols = newdf.columns[newdf.dtypes.apply(lambda c: np.issubdtype(c, np.number))]\n",
    "\n",
    "scaler = StandardScaler()\n",
    "\n",
    "newdf[num_cols] = scaler.fit_transform(newdf[num_cols])"
   ]
  },
  {
   "cell_type": "code",
   "execution_count": 8,
   "id": "9122b977",
   "metadata": {},
   "outputs": [],
   "source": [
    "# Mapping the categorical variable to numerical, Yes = 0 and No = 1\n",
    "newdf['Churn']=df.Churn.map(dict(Yes=1, No=0))"
   ]
  },
  {
   "cell_type": "code",
   "execution_count": 9,
   "id": "7f6b0b1a",
   "metadata": {},
   "outputs": [
    {
     "data": {
      "text/html": [
       "<div>\n",
       "<style scoped>\n",
       "    .dataframe tbody tr th:only-of-type {\n",
       "        vertical-align: middle;\n",
       "    }\n",
       "\n",
       "    .dataframe tbody tr th {\n",
       "        vertical-align: top;\n",
       "    }\n",
       "\n",
       "    .dataframe thead th {\n",
       "        text-align: right;\n",
       "    }\n",
       "</style>\n",
       "<table border=\"1\" class=\"dataframe\">\n",
       "  <thead>\n",
       "    <tr style=\"text-align: right;\">\n",
       "      <th></th>\n",
       "      <th>Age</th>\n",
       "      <th>MonthlyCharge</th>\n",
       "      <th>Bandwidth_GB_Year</th>\n",
       "      <th>Tenure</th>\n",
       "      <th>Churn</th>\n",
       "    </tr>\n",
       "  </thead>\n",
       "  <tbody>\n",
       "    <tr>\n",
       "      <th>0</th>\n",
       "      <td>0.720925</td>\n",
       "      <td>-0.003943</td>\n",
       "      <td>-1.138487</td>\n",
       "      <td>-1.048746</td>\n",
       "      <td>0</td>\n",
       "    </tr>\n",
       "    <tr>\n",
       "      <th>1</th>\n",
       "      <td>-1.259957</td>\n",
       "      <td>1.630326</td>\n",
       "      <td>-1.185876</td>\n",
       "      <td>-1.262001</td>\n",
       "      <td>1</td>\n",
       "    </tr>\n",
       "    <tr>\n",
       "      <th>2</th>\n",
       "      <td>-0.148730</td>\n",
       "      <td>-0.295225</td>\n",
       "      <td>-0.612138</td>\n",
       "      <td>-0.709940</td>\n",
       "      <td>0</td>\n",
       "    </tr>\n",
       "    <tr>\n",
       "      <th>3</th>\n",
       "      <td>-0.245359</td>\n",
       "      <td>-1.226521</td>\n",
       "      <td>-0.561857</td>\n",
       "      <td>-0.659524</td>\n",
       "      <td>0</td>\n",
       "    </tr>\n",
       "    <tr>\n",
       "      <th>4</th>\n",
       "      <td>1.445638</td>\n",
       "      <td>-0.528086</td>\n",
       "      <td>-1.428184</td>\n",
       "      <td>-1.242551</td>\n",
       "      <td>1</td>\n",
       "    </tr>\n",
       "    <tr>\n",
       "      <th>...</th>\n",
       "      <td>...</td>\n",
       "      <td>...</td>\n",
       "      <td>...</td>\n",
       "      <td>...</td>\n",
       "      <td>...</td>\n",
       "    </tr>\n",
       "    <tr>\n",
       "      <th>9995</th>\n",
       "      <td>-1.453214</td>\n",
       "      <td>-0.294484</td>\n",
       "      <td>1.427298</td>\n",
       "      <td>1.273401</td>\n",
       "      <td>0</td>\n",
       "    </tr>\n",
       "    <tr>\n",
       "      <th>9996</th>\n",
       "      <td>-0.245359</td>\n",
       "      <td>0.811726</td>\n",
       "      <td>1.054194</td>\n",
       "      <td>1.002740</td>\n",
       "      <td>0</td>\n",
       "    </tr>\n",
       "    <tr>\n",
       "      <th>9997</th>\n",
       "      <td>-0.245359</td>\n",
       "      <td>-0.061729</td>\n",
       "      <td>0.350984</td>\n",
       "      <td>0.487513</td>\n",
       "      <td>0</td>\n",
       "    </tr>\n",
       "    <tr>\n",
       "      <th>9998</th>\n",
       "      <td>-0.680187</td>\n",
       "      <td>1.863005</td>\n",
       "      <td>1.407713</td>\n",
       "      <td>1.383018</td>\n",
       "      <td>0</td>\n",
       "    </tr>\n",
       "    <tr>\n",
       "      <th>9999</th>\n",
       "      <td>-1.211643</td>\n",
       "      <td>1.044672</td>\n",
       "      <td>1.128163</td>\n",
       "      <td>1.090120</td>\n",
       "      <td>0</td>\n",
       "    </tr>\n",
       "  </tbody>\n",
       "</table>\n",
       "<p>10000 rows × 5 columns</p>\n",
       "</div>"
      ],
      "text/plain": [
       "           Age  MonthlyCharge  Bandwidth_GB_Year    Tenure  Churn\n",
       "0     0.720925      -0.003943          -1.138487 -1.048746      0\n",
       "1    -1.259957       1.630326          -1.185876 -1.262001      1\n",
       "2    -0.148730      -0.295225          -0.612138 -0.709940      0\n",
       "3    -0.245359      -1.226521          -0.561857 -0.659524      0\n",
       "4     1.445638      -0.528086          -1.428184 -1.242551      1\n",
       "...        ...            ...                ...       ...    ...\n",
       "9995 -1.453214      -0.294484           1.427298  1.273401      0\n",
       "9996 -0.245359       0.811726           1.054194  1.002740      0\n",
       "9997 -0.245359      -0.061729           0.350984  0.487513      0\n",
       "9998 -0.680187       1.863005           1.407713  1.383018      0\n",
       "9999 -1.211643       1.044672           1.128163  1.090120      0\n",
       "\n",
       "[10000 rows x 5 columns]"
      ]
     },
     "execution_count": 9,
     "metadata": {},
     "output_type": "execute_result"
    }
   ],
   "source": [
    "newdf"
   ]
  },
  {
   "cell_type": "code",
   "execution_count": 10,
   "id": "a2924c7a",
   "metadata": {},
   "outputs": [],
   "source": [
    "# export file to csv\n",
    "newdf.to_csv('cleaned_data.csv', index = False)"
   ]
  },
  {
   "cell_type": "markdown",
   "id": "c61ca3f9",
   "metadata": {},
   "source": [
    "## Part IV: Analysis"
   ]
  },
  {
   "cell_type": "code",
   "execution_count": 11,
   "id": "817acc60",
   "metadata": {},
   "outputs": [
    {
     "name": "stdout",
     "output_type": "stream",
     "text": [
      "Clusters:  [3 6 7 ... 8 0 0]\n",
      "Inertia:  7582.356333774461\n"
     ]
    }
   ],
   "source": [
    "# Setting up and running KMeans\n",
    "\n",
    "X_train = newdf.values\n",
    "\n",
    "# Running KMeans with 10 clusters\n",
    "\n",
    "kmeans = KMeans(n_clusters=10, random_state=540)\n",
    "kmeans = kmeans.fit(X_train)\n",
    "\n",
    "# Print clusters\n",
    "print(\"Clusters: \", kmeans.labels_)\n",
    "\n",
    "# Print inertia\n",
    "print(\"Inertia: \", kmeans.inertia_)"
   ]
  },
  {
   "cell_type": "code",
   "execution_count": 12,
   "id": "996b9314",
   "metadata": {},
   "outputs": [
    {
     "name": "stdout",
     "output_type": "stream",
     "text": [
      "The innertia for : 2 Clusters is: 23219.28616031923\n",
      "The innertia for : 3 Clusters is: 19426.329462286678\n",
      "The innertia for : 4 Clusters is: 15693.324073644068\n",
      "The innertia for : 5 Clusters is: 13086.765197907356\n",
      "The innertia for : 6 Clusters is: 10678.382139732868\n",
      "The innertia for : 7 Clusters is: 9533.687886532553\n",
      "The innertia for : 8 Clusters is: 8533.078114492819\n",
      "The innertia for : 9 Clusters is: 8047.1179868905665\n",
      "The innertia for : 10 Clusters is: 7582.356333774461\n",
      "The innertia for : 11 Clusters is: 7172.481581009229\n",
      "The innertia for : 12 Clusters is: 6839.161053114894\n",
      "The innertia for : 13 Clusters is: 6449.096569035491\n",
      "The innertia for : 14 Clusters is: 6122.545928865327\n",
      "The innertia for : 15 Clusters is: 5896.504882459583\n",
      "The innertia for : 16 Clusters is: 5645.237154378096\n",
      "The innertia for : 17 Clusters is: 5413.715209243881\n",
      "The innertia for : 18 Clusters is: 5257.082762744327\n",
      "The innertia for : 19 Clusters is: 5077.2133616025185\n",
      "The innertia for : 20 Clusters is: 4941.964563588946\n"
     ]
    }
   ],
   "source": [
    "# Running K means with 20 clusters\n",
    "\n",
    "no_of_clusters = range(2,21)\n",
    "inertia = []\n",
    "\n",
    "\n",
    "for n in no_of_clusters:\n",
    "    kmeans = KMeans(n_clusters=n, random_state=540)\n",
    "    kmeans = kmeans.fit(X_train)\n",
    "    i = kmeans.inertia_\n",
    "    inertia.append(i)\n",
    "    print(\"The innertia for :\", n, \"Clusters is:\", i)"
   ]
  },
  {
   "cell_type": "markdown",
   "id": "b6e96a6e",
   "metadata": {},
   "source": [
    "We can see there is a pretty big drop off from 7 to 8 and from then on. This is the first clue that 7 may be optimal."
   ]
  },
  {
   "cell_type": "code",
   "execution_count": 13,
   "id": "40625823",
   "metadata": {},
   "outputs": [
    {
     "data": {
      "image/png": "[encoded data removed]",
      "text/plain": [
       "<Figure size 1152x432 with 1 Axes>"
      ]
     },
     "metadata": {
      "needs_background": "light"
     },
     "output_type": "display_data"
    }
   ],
   "source": [
    "# Creating the scree plot for Intertia - elbow method\n",
    "fig, (ax1) = plt.subplots(1, figsize=(16,6))\n",
    "num = np.arange(len(no_of_clusters))\n",
    "ax1.plot(num, inertia)\n",
    "ax1.set_xticks(num)\n",
    "ax1.set_xticklabels(no_of_clusters)\n",
    "plt.xlabel('Number of clusters')\n",
    "plt.ylabel('Inertia Score')\n",
    "plt.title(\"Clusters to Inertia\")\n",
    "plt.show()"
   ]
  },
  {
   "cell_type": "markdown",
   "id": "236cef83",
   "metadata": {},
   "source": [
    "Graphing the plots from above"
   ]
  },
  {
   "cell_type": "code",
   "execution_count": 14,
   "id": "eabd5a5f",
   "metadata": {
    "scrolled": false
   },
   "outputs": [
    {
     "data": {
      "image/png": "[encoded data removed]",
      "text/plain": [
       "<Figure size 432x288 with 2 Axes>"
      ]
     },
     "metadata": {},
     "output_type": "display_data"
    },
    {
     "data": {
      "text/plain": [
       "<AxesSubplot:title={'center':'Distortion Score Elbow for KMeans Clustering'}, xlabel='k', ylabel='distortion score'>"
      ]
     },
     "execution_count": 14,
     "metadata": {},
     "output_type": "execute_result"
    }
   ],
   "source": [
    "model = KMeans()\n",
    "# k is range of number of clusters.\n",
    "visualizer = KElbowVisualizer(model, k=(2,21), timings= True,figsize=(16,6))\n",
    "visualizer.fit(newdf)        # Fit data to visualizer\n",
    "visualizer.show()        # Finalize and render figure"
   ]
  },
  {
   "cell_type": "markdown",
   "id": "fd8a7edf",
   "metadata": {},
   "source": [
    "From all these plots, we can see that the optimal number of clusters is 7."
   ]
  },
  {
   "cell_type": "markdown",
   "id": "d5bd31b6",
   "metadata": {},
   "source": [
    "## Part V: Data Summary and Implications"
   ]
  },
  {
   "cell_type": "markdown",
   "id": "2f0f2798",
   "metadata": {},
   "source": [
    "KMeans is an unsupervised learning algorithm, and therefore we can not get a traditional accuracy measure through an accuracy score. We can measure the accuracy by the distortion score to clusters and fit time in the graphs from above. We can see that at the 7 cluster mark we hit the \"Elbow\" and from then on thr fit time rises dramatically. We can also see in the cluster to inertia graphs and charts that between 2 and 7 clusters there is the largest drop in inertia, and then from 8 on, the inertia starts slowly trailing off. This shows that the most influential clusters are the first 7, and then the accuracy starts dropping off. This shows that we could accurately predict with models using 7 clusters.\n",
    "\n",
    "The results show that we can accurately predict and identify principal variables of the customers using kmeans clustering, however we have to use 7 clusters. Using more will lower accuracy, and using less will not give enough data.\n",
    "\n",
    "One limitation of this analysis is that we used the same seed number for all tests. Changing the seed number can results in different results, so more a more accurate report, we would need to run the tests many more times with varying seed numbers.\n",
    "\n",
    "A real world organization could use this type of analysis to predict the principal variables of its customers with sufficient accuracy, however, they would need to make sure to run many more tests with different numbers and different data to get more accurate results."
   ]
  },
  {
   "cell_type": "code",
   "execution_count": null,
   "id": "3e7bc86d",
   "metadata": {},
   "outputs": [],
   "source": []
  }
 ],
 "metadata": {
  "kernelspec": {
   "display_name": "Python 3",
   "language": "python",
   "name": "python3"
  },
  "language_info": {
   "codemirror_mode": {
    "name": "ipython",
    "version": 3
   },
   "file_extension": ".py",
   "mimetype": "text/x-python",
   "name": "python",
   "nbconvert_exporter": "python",
   "pygments_lexer": "ipython3",
   "version": "3.8.8"
  }
 },
 "nbformat": 4,
 "nbformat_minor": 5
}
