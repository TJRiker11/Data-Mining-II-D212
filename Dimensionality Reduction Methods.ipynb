{
 "cells": [
  {
   "cell_type": "markdown",
   "id": "3891d0cf",
   "metadata": {},
   "source": [
    "# Dimensionality Reduction Methods"
   ]
  },
  {
   "cell_type": "markdown",
   "id": "fd916121",
   "metadata": {},
   "source": [
    "## Part I: Research Question"
   ]
  },
  {
   "cell_type": "markdown",
   "id": "21272f3f",
   "metadata": {},
   "source": [
    "## Part II: Method Justification"
   ]
  },
  {
   "cell_type": "markdown",
   "id": "057d4595",
   "metadata": {},
   "source": [
    "## Part III: Data Preparation"
   ]
  },
  {
   "cell_type": "markdown",
   "id": "656a2ae4",
   "metadata": {},
   "source": [
    "## Part IV: Analysis"
   ]
  },
  {
   "cell_type": "markdown",
   "id": "a064d7b0",
   "metadata": {},
   "source": [
    "## Part V: Data Summary and Implications"
   ]
  },
  {
   "cell_type": "code",
   "execution_count": null,
   "id": "b8ed6266",
   "metadata": {},
   "outputs": [],
   "source": []
  }
 ],
 "metadata": {
  "kernelspec": {
   "display_name": "Python 3",
   "language": "python",
   "name": "python3"
  },
  "language_info": {
   "codemirror_mode": {
    "name": "ipython",
    "version": 3
   },
   "file_extension": ".py",
   "mimetype": "text/x-python",
   "name": "python",
   "nbconvert_exporter": "python",
   "pygments_lexer": "ipython3",
   "version": "3.8.8"
  }
 },
 "nbformat": 4,
 "nbformat_minor": 5
}
